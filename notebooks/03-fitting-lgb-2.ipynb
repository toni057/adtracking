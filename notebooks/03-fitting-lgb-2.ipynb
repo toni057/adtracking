{
 "cells": [
  {
   "cell_type": "code",
   "execution_count": 1,
   "metadata": {
    "collapsed": true
   },
   "outputs": [],
   "source": [
    "NAME = '02-lgb-2'\n",
    "SEED = 489501294"
   ]
  },
  {
   "cell_type": "code",
   "execution_count": 2,
   "metadata": {
    "collapsed": true
   },
   "outputs": [],
   "source": [
    "import feather\n",
    "import numpy as np\n",
    "import pandas as pd\n",
    "\n",
    "import lightgbm as lgb\n",
    "from sklearn.metrics import roc_auc_score, roc_curve\n",
    "\n",
    "import matplotlib.pyplot as plt\n",
    "\n",
    "import time\n",
    "import gc"
   ]
  },
  {
   "cell_type": "code",
   "execution_count": 3,
   "metadata": {
    "collapsed": true
   },
   "outputs": [],
   "source": [
    "import os\n",
    "from settings import *"
   ]
  },
  {
   "cell_type": "markdown",
   "metadata": {
    "collapsed": true
   },
   "source": [
    "#### Load data"
   ]
  },
  {
   "cell_type": "code",
   "execution_count": 4,
   "metadata": {
    "collapsed": true
   },
   "outputs": [],
   "source": [
    "d = feather.read_dataframe(os.path.join(DATA, 'processed', 'train_processed.feather'))"
   ]
  },
  {
   "cell_type": "code",
   "execution_count": 5,
   "metadata": {
    "collapsed": true
   },
   "outputs": [],
   "source": [
    "y = d['is_attributed']\n",
    "# d.drop(['is_attributed', 'attributed_time'], axis=1, inplace=True)\n",
    "d.drop(['is_attributed'], axis=1, inplace=True)"
   ]
  },
  {
   "cell_type": "code",
   "execution_count": 6,
   "metadata": {
    "collapsed": true
   },
   "outputs": [],
   "source": [
    "test = feather.read_dataframe(os.path.join(DATA, 'processed', 'test_processed.feather'))"
   ]
  },
  {
   "cell_type": "code",
   "execution_count": null,
   "metadata": {
    "collapsed": true
   },
   "outputs": [],
   "source": []
  },
  {
   "cell_type": "markdown",
   "metadata": {
    "collapsed": true
   },
   "source": [
    "#### Training"
   ]
  },
  {
   "cell_type": "code",
   "execution_count": 7,
   "metadata": {},
   "outputs": [
    {
     "data": {
      "text/html": [
       "<div>\n",
       "<table border=\"1\" class=\"dataframe\">\n",
       "  <thead>\n",
       "    <tr style=\"text-align: right;\">\n",
       "      <th></th>\n",
       "      <th>ip</th>\n",
       "      <th>app</th>\n",
       "      <th>device</th>\n",
       "      <th>os</th>\n",
       "      <th>channel</th>\n",
       "      <th>quarter</th>\n",
       "      <th>time</th>\n",
       "      <th>n_ip_quarter_app_app</th>\n",
       "      <th>n_ip_quarter_device_device</th>\n",
       "      <th>n_ip_quarter_os_os</th>\n",
       "      <th>n_ip_quarter_channel_channel</th>\n",
       "      <th>n_ip_quarter_app_app_sq</th>\n",
       "      <th>n_ip_quarter_device_device_sq</th>\n",
       "      <th>n_ip_quarter_os_os_sq</th>\n",
       "      <th>n_ip_quarter_channel_channel_sq</th>\n",
       "    </tr>\n",
       "  </thead>\n",
       "  <tbody>\n",
       "    <tr>\n",
       "      <th>0</th>\n",
       "      <td>83230</td>\n",
       "      <td>3</td>\n",
       "      <td>1</td>\n",
       "      <td>13</td>\n",
       "      <td>379</td>\n",
       "      <td>61</td>\n",
       "      <td>52341</td>\n",
       "      <td>47</td>\n",
       "      <td>255</td>\n",
       "      <td>43</td>\n",
       "      <td>4</td>\n",
       "      <td>2209</td>\n",
       "      <td>65025</td>\n",
       "      <td>1849</td>\n",
       "      <td>16</td>\n",
       "    </tr>\n",
       "    <tr>\n",
       "      <th>1</th>\n",
       "      <td>17357</td>\n",
       "      <td>3</td>\n",
       "      <td>1</td>\n",
       "      <td>19</td>\n",
       "      <td>379</td>\n",
       "      <td>62</td>\n",
       "      <td>52414</td>\n",
       "      <td>40</td>\n",
       "      <td>205</td>\n",
       "      <td>44</td>\n",
       "      <td>6</td>\n",
       "      <td>1600</td>\n",
       "      <td>42025</td>\n",
       "      <td>1936</td>\n",
       "      <td>36</td>\n",
       "    </tr>\n",
       "    <tr>\n",
       "      <th>2</th>\n",
       "      <td>35810</td>\n",
       "      <td>3</td>\n",
       "      <td>1</td>\n",
       "      <td>13</td>\n",
       "      <td>379</td>\n",
       "      <td>63</td>\n",
       "      <td>52452</td>\n",
       "      <td>43</td>\n",
       "      <td>147</td>\n",
       "      <td>42</td>\n",
       "      <td>2</td>\n",
       "      <td>1849</td>\n",
       "      <td>21609</td>\n",
       "      <td>1764</td>\n",
       "      <td>4</td>\n",
       "    </tr>\n",
       "    <tr>\n",
       "      <th>3</th>\n",
       "      <td>45745</td>\n",
       "      <td>14</td>\n",
       "      <td>1</td>\n",
       "      <td>13</td>\n",
       "      <td>478</td>\n",
       "      <td>63</td>\n",
       "      <td>52492</td>\n",
       "      <td>278</td>\n",
       "      <td>3739</td>\n",
       "      <td>943</td>\n",
       "      <td>22</td>\n",
       "      <td>77284</td>\n",
       "      <td>13980121</td>\n",
       "      <td>889249</td>\n",
       "      <td>484</td>\n",
       "    </tr>\n",
       "    <tr>\n",
       "      <th>4</th>\n",
       "      <td>161007</td>\n",
       "      <td>3</td>\n",
       "      <td>1</td>\n",
       "      <td>13</td>\n",
       "      <td>379</td>\n",
       "      <td>60</td>\n",
       "      <td>52508</td>\n",
       "      <td>4</td>\n",
       "      <td>19</td>\n",
       "      <td>6</td>\n",
       "      <td>1</td>\n",
       "      <td>16</td>\n",
       "      <td>361</td>\n",
       "      <td>36</td>\n",
       "      <td>1</td>\n",
       "    </tr>\n",
       "  </tbody>\n",
       "</table>\n",
       "</div>"
      ],
      "text/plain": [
       "       ip  app  device  os  channel  quarter   time  n_ip_quarter_app_app  \\\n",
       "0   83230    3       1  13      379       61  52341                    47   \n",
       "1   17357    3       1  19      379       62  52414                    40   \n",
       "2   35810    3       1  13      379       63  52452                    43   \n",
       "3   45745   14       1  13      478       63  52492                   278   \n",
       "4  161007    3       1  13      379       60  52508                     4   \n",
       "\n",
       "   n_ip_quarter_device_device  n_ip_quarter_os_os  \\\n",
       "0                         255                  43   \n",
       "1                         205                  44   \n",
       "2                         147                  42   \n",
       "3                        3739                 943   \n",
       "4                          19                   6   \n",
       "\n",
       "   n_ip_quarter_channel_channel  n_ip_quarter_app_app_sq  \\\n",
       "0                             4                     2209   \n",
       "1                             6                     1600   \n",
       "2                             2                     1849   \n",
       "3                            22                    77284   \n",
       "4                             1                       16   \n",
       "\n",
       "   n_ip_quarter_device_device_sq  n_ip_quarter_os_os_sq  \\\n",
       "0                          65025                   1849   \n",
       "1                          42025                   1936   \n",
       "2                          21609                   1764   \n",
       "3                       13980121                 889249   \n",
       "4                            361                     36   \n",
       "\n",
       "   n_ip_quarter_channel_channel_sq  \n",
       "0                               16  \n",
       "1                               36  \n",
       "2                                4  \n",
       "3                              484  \n",
       "4                                1  "
      ]
     },
     "execution_count": 7,
     "metadata": {},
     "output_type": "execute_result"
    }
   ],
   "source": [
    "d.head()"
   ]
  },
  {
   "cell_type": "code",
   "execution_count": 8,
   "metadata": {
    "collapsed": true
   },
   "outputs": [],
   "source": [
    "categoricals = ['app', 'device', 'os', 'channel']"
   ]
  },
  {
   "cell_type": "code",
   "execution_count": 9,
   "metadata": {
    "collapsed": true
   },
   "outputs": [],
   "source": [
    "vars_name = ['app', 'device', 'os', 'channel', 'quarter', 'time', 'date',\n",
    "       'day_of_week', 'week', 'n_ip_day_of_week_quarter_channel',\n",
    "       'n_ip_quarter_app_app', 'n_ip_quarter_device_device',\n",
    "       'n_ip_quarter_os_os', 'n_ip_quarter_channel_channel']\n",
    "\n",
    "\n",
    "vars_name = ['app', 'device', 'os', 'channel', 'time',       \n",
    "       'n_ip_quarter_app_app', 'n_ip_quarter_device_device',\n",
    "       'n_ip_quarter_os_os', 'n_ip_quarter_channel_channel',\n",
    "       'n_ip_quarter_app_app_sq', 'n_ip_quarter_device_device_sq',\n",
    "       'n_ip_quarter_os_os_sq', 'n_ip_quarter_channel_channel_sq']\n"
   ]
  },
  {
   "cell_type": "code",
   "execution_count": 11,
   "metadata": {
    "collapsed": true
   },
   "outputs": [],
   "source": [
    "vars = np.where(d.columns.isin(vars_name))[0]"
   ]
  },
  {
   "cell_type": "markdown",
   "metadata": {},
   "source": [
    "#### Optimise params here"
   ]
  },
  {
   "cell_type": "code",
   "execution_count": 12,
   "metadata": {
    "collapsed": true
   },
   "outputs": [],
   "source": [
    "from sklearn.model_selection import KFold\n",
    "\n",
    "class Oversample(object):\n",
    "    def __init__(self, X, y, n_splits=5, seed=None):\n",
    "        \n",
    "        self.ind0 = X.index[y==0]\n",
    "        self.ind1 = X.index[y==1]\n",
    "        \n",
    "#         self.n_splits = n_splits\n",
    "#         self.N_0 = 9 * len(ind1)\n",
    "        \n",
    "        self.kf_0 = KFold(n_splits=n_splits, shuffle=True, random_state=seed)\n",
    "        self.kf_1 = KFold(n_splits=n_splits, shuffle=True, random_state=seed)\n",
    "        \n",
    "        self.non_event = self.kf_0.split(self.ind0)\n",
    "        self.event = self.kf_1.split(self.ind1)\n",
    "        \n",
    "\n",
    "    def __next__(self):\n",
    "        return self.generate()\n",
    "    \n",
    "    def generate(self):\n",
    "        ind0_0, ind0_1 = next(self.non_event)\n",
    "        ind1_0, ind1_1 = next(self.event)\n",
    "        \n",
    "        ind0_train = self.ind0[ind0_0]\n",
    "        ind0_valid = self.ind0[ind0_1]\n",
    "        \n",
    "        ind1_train = self.ind1[ind1_0]\n",
    "        ind1_valid = self.ind1[ind1_1]\n",
    "        \n",
    "        train = np.concatenate([np.random.choice(ind0_train, len(ind1_train) * 1), ind1_train])\n",
    "        valid = np.concatenate([np.array(ind0_valid), np.array(ind1_valid)])\n",
    "#         valid = np.concatenate([np.random.choice(ind0_valid, len(ind0_valid) * 9), ind1_valid])\n",
    "        \n",
    "        yield np.random.permutation(train), np.random.permutation(valid)\n",
    "        \n",
    "        \n",
    "    def generate_all(self):\n",
    "        \n",
    "        train = np.concatenate([np.random.choice(self.ind0, len(self.ind1) * 1), self.ind1])\n",
    "        \n",
    "        return np.random.permutation(train)\n",
    "        "
   ]
  },
  {
   "cell_type": "code",
   "execution_count": 13,
   "metadata": {
    "collapsed": true
   },
   "outputs": [],
   "source": [
    "# N = 1000000\n",
    "N = d.shape[0]\n",
    "\n",
    "# ov = Oversample(d.iloc[:N, vars], y[:N], seed=SEED)\n",
    "\n",
    "dtrain = lgb.Dataset(d.iloc[:N, vars], label=y.iloc[:N], categorical_feature=categoricals, free_raw_data=False)\n",
    "\n",
    "\n",
    "# x1, x2, y1, y2 = train_test_split(d.iloc[:N, vars], y[:N], test_size=0.1, random_state=47840934)\n",
    "# dtrain = lgb.Dataset(x1, label=y1)\n",
    "# dval = lgb.Dataset(x2, label=y2, reference=dtrain)\n",
    "# del x1, x2, y1, y2\n",
    "\n",
    "gc.collect();"
   ]
  },
  {
   "cell_type": "code",
   "execution_count": 14,
   "metadata": {},
   "outputs": [
    {
     "name": "stderr",
     "output_type": "stream",
     "text": [
      "/Users/toniblaslov/anaconda/lib/python3.6/site-packages/lightgbm/basic.py:1036: UserWarning: Using categorical_feature in Dataset.\n",
      "  warnings.warn('Using categorical_feature in Dataset.')\n"
     ]
    },
    {
     "name": "stdout",
     "output_type": "stream",
     "text": [
      "[10]\tcv_agg's auc: 0.964689 + 0\n",
      "[20]\tcv_agg's auc: 0.965535 + 0\n",
      "[30]\tcv_agg's auc: 0.966352 + 0\n",
      "[40]\tcv_agg's auc: 0.968864 + 0\n",
      "[50]\tcv_agg's auc: 0.969097 + 0\n",
      "[60]\tcv_agg's auc: 0.969689 + 0\n",
      "[70]\tcv_agg's auc: 0.969924 + 0\n",
      "[80]\tcv_agg's auc: 0.970276 + 0\n",
      "[90]\tcv_agg's auc: 0.970668 + 0\n",
      "[100]\tcv_agg's auc: 0.971099 + 0\n",
      "[110]\tcv_agg's auc: 0.971452 + 0\n",
      "[120]\tcv_agg's auc: 0.971694 + 0\n",
      "[130]\tcv_agg's auc: 0.971853 + 0\n",
      "[140]\tcv_agg's auc: 0.972173 + 0\n",
      "[150]\tcv_agg's auc: 0.972573 + 0\n",
      "[160]\tcv_agg's auc: 0.972805 + 0\n",
      "[170]\tcv_agg's auc: 0.973022 + 0\n",
      "[180]\tcv_agg's auc: 0.973272 + 0\n",
      "[190]\tcv_agg's auc: 0.973543 + 0\n",
      "[200]\tcv_agg's auc: 0.973744 + 0\n",
      "[210]\tcv_agg's auc: 0.973827 + 0\n",
      "[220]\tcv_agg's auc: 0.973897 + 0\n",
      "[230]\tcv_agg's auc: 0.973941 + 0\n",
      "[240]\tcv_agg's auc: 0.973986 + 0\n",
      "[250]\tcv_agg's auc: 0.974004 + 0\n",
      "[260]\tcv_agg's auc: 0.974008 + 0\n",
      "[270]\tcv_agg's auc: 0.974006 + 0\n",
      "[280]\tcv_agg's auc: 0.974018 + 0\n",
      "[290]\tcv_agg's auc: 0.974007 + 0\n",
      "[300]\tcv_agg's auc: 0.974 + 0\n",
      "[310]\tcv_agg's auc: 0.973994 + 0\n",
      "[320]\tcv_agg's auc: 0.974012 + 0\n",
      "[330]\tcv_agg's auc: 0.974004 + 0\n",
      "[3930.6268458366394] Finished LGBM Training\n"
     ]
    }
   ],
   "source": [
    "ov = Oversample(d.iloc[:N, vars], y[:N], n_splits=5, seed=SEED)\n",
    "gc.collect();\n",
    "\n",
    "start_time = time.time()\n",
    "\n",
    "\n",
    "params = {\n",
    "    'num_leaves': 131,\n",
    "    'objective': 'binary',\n",
    "    'min_data_in_leaf': 100,\n",
    "    'learning_rate': 0.05,\n",
    "    'feature_fraction': 0.8,\n",
    "    'bagging_fraction': 0.63,\n",
    "    'bagging_freq': 3,\n",
    "    'metric': 'auc',\n",
    "    'num_threads': 4,\n",
    "    'scale_pos_weight':400\n",
    "}\n",
    "\n",
    "MAX_ROUNDS = 450\n",
    "\n",
    "\n",
    "# model = lgb.train(params, dtrain, num_boost_round=MAX_ROUNDS, \n",
    "#                   valid_sets=[dtrain, dval], \n",
    "#                   early_stopping_rounds=50, \n",
    "#                   verbose_eval=10)\n",
    "\n",
    "cv_auc = lgb.cv(params, dtrain, num_boost_round=MAX_ROUNDS, \n",
    "                folds = ov.generate(),\n",
    "                early_stopping_rounds=50, \n",
    "                verbose_eval=10, \n",
    "                seed=SEED)\n",
    "\n",
    "# cv_auc_mean = pd.DataFrame(cv_auc)['auc-mean'].mean()\n",
    "d_cv_auc = pd.DataFrame(cv_auc)\n",
    "cv_auc_mean = d_cv_auc.iloc[d_cv_auc.shape[0]-1, 0]\n",
    "\n",
    "# del dtrain#, dval\n",
    "gc.collect()\n",
    "\n",
    "print('[{}] Finished LGBM Training'.format(time.time() - start_time))"
   ]
  },
  {
   "cell_type": "code",
   "execution_count": 16,
   "metadata": {},
   "outputs": [
    {
     "data": {
      "image/png": "[encoded data removed]",
      "text/plain": [
       "<Figure size 432x288 with 1 Axes>"
      ]
     },
     "metadata": {},
     "output_type": "display_data"
    }
   ],
   "source": [
    "pd.DataFrame(cv_auc)['auc-mean'].plot();"
   ]
  },
  {
   "cell_type": "markdown",
   "metadata": {},
   "source": [
    "#### Fit final model here"
   ]
  },
  {
   "cell_type": "code",
   "execution_count": 56,
   "metadata": {
    "collapsed": true
   },
   "outputs": [],
   "source": [
    "valid_ind = np.random.permutation(N)[:round(N/10)]"
   ]
  },
  {
   "cell_type": "code",
   "execution_count": 57,
   "metadata": {
    "collapsed": true
   },
   "outputs": [],
   "source": [
    "valid = d.iloc[d.index[valid_ind]].reset_index(drop=True)\n",
    "y_valid = y.iloc[y.index[valid_ind]].reset_index(drop=True)"
   ]
  },
  {
   "cell_type": "code",
   "execution_count": 58,
   "metadata": {
    "collapsed": true
   },
   "outputs": [],
   "source": [
    "d = d.drop(d.index[valid_ind]).reset_index(drop=True)\n",
    "y = y.drop(y.index[valid_ind]).reset_index(drop=True)"
   ]
  },
  {
   "cell_type": "code",
   "execution_count": 59,
   "metadata": {
    "collapsed": true
   },
   "outputs": [],
   "source": [
    "N = d.shape[0]"
   ]
  },
  {
   "cell_type": "code",
   "execution_count": 17,
   "metadata": {
    "collapsed": true
   },
   "outputs": [],
   "source": [
    "ov = Oversample(d.iloc[:N, vars], y.iloc[:N], n_splits=5, seed=SEED)\n",
    "# ov = Oversample(d.iloc[:10000, vars], y[:10000], n_splits=5, seed=SEED)\n",
    "\n",
    "indices = ov.generate_all()\n",
    "\n",
    "gc.collect();"
   ]
  },
  {
   "cell_type": "code",
   "execution_count": 18,
   "metadata": {},
   "outputs": [
    {
     "name": "stderr",
     "output_type": "stream",
     "text": [
      "/Users/toniblaslov/anaconda/lib/python3.6/site-packages/lightgbm/basic.py:681: UserWarning: categorical_feature in param dict is overrided.\n",
      "  warnings.warn('categorical_feature in param dict is overrided.')\n"
     ]
    },
    {
     "name": "stdout",
     "output_type": "stream",
     "text": [
      "Training until validation scores don't improve for 50 rounds.\n",
      "[10]\ttraining's auc: 0.966373\n",
      "[20]\ttraining's auc: 0.967266\n",
      "[30]\ttraining's auc: 0.968604\n",
      "[40]\ttraining's auc: 0.970826\n",
      "[50]\ttraining's auc: 0.971251\n",
      "[60]\ttraining's auc: 0.971841\n",
      "[70]\ttraining's auc: 0.972189\n",
      "[80]\ttraining's auc: 0.972519\n",
      "[90]\ttraining's auc: 0.973171\n",
      "[100]\ttraining's auc: 0.973676\n",
      "[110]\ttraining's auc: 0.97408\n",
      "[120]\ttraining's auc: 0.974521\n",
      "[130]\ttraining's auc: 0.9749\n",
      "[140]\ttraining's auc: 0.975688\n",
      "[150]\ttraining's auc: 0.976257\n",
      "[160]\ttraining's auc: 0.976438\n",
      "[170]\ttraining's auc: 0.976885\n",
      "[180]\ttraining's auc: 0.977284\n",
      "[190]\ttraining's auc: 0.977713\n",
      "[200]\ttraining's auc: 0.978097\n",
      "[210]\ttraining's auc: 0.978298\n",
      "[220]\ttraining's auc: 0.978532\n",
      "[230]\ttraining's auc: 0.978728\n",
      "[240]\ttraining's auc: 0.978926\n",
      "[250]\ttraining's auc: 0.979077\n",
      "[260]\ttraining's auc: 0.979243\n",
      "[270]\ttraining's auc: 0.97938\n",
      "[280]\ttraining's auc: 0.979533\n",
      "[290]\ttraining's auc: 0.979675\n",
      "[300]\ttraining's auc: 0.979843\n",
      "[310]\ttraining's auc: 0.979965\n",
      "[320]\ttraining's auc: 0.98009\n",
      "[330]\ttraining's auc: 0.980211\n",
      "[340]\ttraining's auc: 0.980321\n",
      "[350]\ttraining's auc: 0.980437\n",
      "[360]\ttraining's auc: 0.980568\n",
      "[370]\ttraining's auc: 0.980668\n",
      "[380]\ttraining's auc: 0.980777\n",
      "[390]\ttraining's auc: 0.980906\n",
      "[400]\ttraining's auc: 0.981018\n",
      "[410]\ttraining's auc: 0.981137\n",
      "[420]\ttraining's auc: 0.981243\n",
      "[430]\ttraining's auc: 0.981334\n",
      "[440]\ttraining's auc: 0.981437\n",
      "[450]\ttraining's auc: 0.981562\n",
      "Did not meet early stopping. Best iteration is:\n",
      "[450]\ttraining's auc: 0.981562\n",
      "[111.38182282447815] Finished LGBM Training\n"
     ]
    }
   ],
   "source": [
    "dtrain = lgb.Dataset(d.iloc[indices, vars], label=y.iloc[indices], categorical_feature=categoricals)\n",
    "\n",
    "start_time = time.time()\n",
    "\n",
    "model = lgb.train(params, dtrain, num_boost_round=MAX_ROUNDS, \n",
    "                  categorical_feature=categoricals,\n",
    "                  valid_sets=[dtrain], \n",
    "                  early_stopping_rounds=50, \n",
    "                  verbose_eval=10)\n",
    "\n",
    "\n",
    "# del dtrain#, dval\n",
    "gc.collect()\n",
    "\n",
    "print('[{}] Finished LGBM Training'.format(time.time() - start_time))"
   ]
  },
  {
   "cell_type": "code",
   "execution_count": 63,
   "metadata": {
    "collapsed": true
   },
   "outputs": [],
   "source": [
    "pred_val = model.predict(valid.loc[:, vars_name])"
   ]
  },
  {
   "cell_type": "code",
   "execution_count": 64,
   "metadata": {
    "collapsed": true
   },
   "outputs": [],
   "source": [
    "from sklearn.metrics import roc_curve, roc_auc_score"
   ]
  },
  {
   "cell_type": "code",
   "execution_count": 65,
   "metadata": {},
   "outputs": [
    {
     "data": {
      "text/plain": [
       "0.9743771914502644"
      ]
     },
     "execution_count": 65,
     "metadata": {},
     "output_type": "execute_result"
    }
   ],
   "source": [
    "cv_auc_mean = roc_auc_score(y_valid, pred_val)\n",
    "cv_auc_mean"
   ]
  },
  {
   "cell_type": "code",
   "execution_count": null,
   "metadata": {
    "collapsed": true
   },
   "outputs": [],
   "source": []
  },
  {
   "cell_type": "code",
   "execution_count": null,
   "metadata": {
    "collapsed": true
   },
   "outputs": [],
   "source": []
  },
  {
   "cell_type": "markdown",
   "metadata": {},
   "source": [
    "#### Score and save to outputs"
   ]
  },
  {
   "cell_type": "code",
   "execution_count": 19,
   "metadata": {
    "collapsed": true
   },
   "outputs": [],
   "source": [
    "gc.collect();"
   ]
  },
  {
   "cell_type": "code",
   "execution_count": 20,
   "metadata": {
    "collapsed": true
   },
   "outputs": [],
   "source": [
    "y_test = model.predict(test.loc[:,vars_name])"
   ]
  },
  {
   "cell_type": "code",
   "execution_count": 21,
   "metadata": {
    "collapsed": true
   },
   "outputs": [],
   "source": [
    "d_sub = pd.DataFrame({'click_id': test.click_id, 'is_attributed': y_test})"
   ]
  },
  {
   "cell_type": "code",
   "execution_count": 23,
   "metadata": {},
   "outputs": [
    {
     "data": {
      "text/html": [
       "<div>\n",
       "<table border=\"1\" class=\"dataframe\">\n",
       "  <thead>\n",
       "    <tr style=\"text-align: right;\">\n",
       "      <th></th>\n",
       "      <th>click_id</th>\n",
       "      <th>is_attributed</th>\n",
       "    </tr>\n",
       "  </thead>\n",
       "  <tbody>\n",
       "    <tr>\n",
       "      <th>0</th>\n",
       "      <td>0</td>\n",
       "      <td>0.991869</td>\n",
       "    </tr>\n",
       "    <tr>\n",
       "      <th>1</th>\n",
       "      <td>1</td>\n",
       "      <td>0.983593</td>\n",
       "    </tr>\n",
       "    <tr>\n",
       "      <th>2</th>\n",
       "      <td>2</td>\n",
       "      <td>0.840240</td>\n",
       "    </tr>\n",
       "    <tr>\n",
       "      <th>3</th>\n",
       "      <td>3</td>\n",
       "      <td>0.977143</td>\n",
       "    </tr>\n",
       "    <tr>\n",
       "      <th>4</th>\n",
       "      <td>4</td>\n",
       "      <td>0.948011</td>\n",
       "    </tr>\n",
       "  </tbody>\n",
       "</table>\n",
       "</div>"
      ],
      "text/plain": [
       "   click_id  is_attributed\n",
       "0         0       0.991869\n",
       "1         1       0.983593\n",
       "2         2       0.840240\n",
       "3         3       0.977143\n",
       "4         4       0.948011"
      ]
     },
     "execution_count": 23,
     "metadata": {},
     "output_type": "execute_result"
    }
   ],
   "source": [
    "d_sub.head()"
   ]
  },
  {
   "cell_type": "code",
   "execution_count": 24,
   "metadata": {
    "collapsed": true
   },
   "outputs": [],
   "source": [
    "output_name = os.path.join(OUTPUT, NAME + '-' + str(cv_auc_mean))\n",
    "\n",
    "d_sub.to_csv(output_name + '.csv', index=False)\n",
    "# feather.write_dataframe(d_sub, output_name + '.feather')"
   ]
  },
  {
   "cell_type": "markdown",
   "metadata": {},
   "source": [
    "#### Save the model to disk"
   ]
  },
  {
   "cell_type": "code",
   "execution_count": 23,
   "metadata": {
    "collapsed": true
   },
   "outputs": [],
   "source": [
    "import pickle\n",
    "with open(os.path.join(ROOT, 'models', NAME + '.pickle'), 'wb') as file:\n",
    "    pickle.dump(model, file)"
   ]
  },
  {
   "cell_type": "code",
   "execution_count": null,
   "metadata": {
    "collapsed": true
   },
   "outputs": [],
   "source": []
  }
 ],
 "metadata": {
  "kernelspec": {
   "display_name": "Python 3",
   "language": "python",
   "name": "python3"
  },
  "language_info": {
   "codemirror_mode": {
    "name": "ipython",
    "version": 3
   },
   "file_extension": ".py",
   "mimetype": "text/x-python",
   "name": "python",
   "nbconvert_exporter": "python",
   "pygments_lexer": "ipython3",
   "version": "3.6.4"
  }
 },
 "nbformat": 4,
 "nbformat_minor": 2
}
