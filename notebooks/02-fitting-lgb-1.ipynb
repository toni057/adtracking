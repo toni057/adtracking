{
 "cells": [
  {
   "cell_type": "code",
   "execution_count": 1,
   "metadata": {
    "collapsed": true
   },
   "outputs": [],
   "source": [
    "NAME = '01-lgb-1'\n",
    "SEED = 489572034"
   ]
  },
  {
   "cell_type": "code",
   "execution_count": 2,
   "metadata": {
    "collapsed": true
   },
   "outputs": [],
   "source": [
    "import feather\n",
    "import numpy as np\n",
    "import pandas as pd\n",
    "\n",
    "import lightgbm as lgb\n",
    "from sklearn.metrics import roc_auc_score, roc_curve\n",
    "\n",
    "import matplotlib.pyplot as plt"
   ]
  },
  {
   "cell_type": "code",
   "execution_count": 3,
   "metadata": {
    "collapsed": true
   },
   "outputs": [],
   "source": [
    "import os\n",
    "from settings import *"
   ]
  },
  {
   "cell_type": "code",
   "execution_count": 17,
   "metadata": {
    "collapsed": true
   },
   "outputs": [],
   "source": [
    "import gc"
   ]
  },
  {
   "cell_type": "markdown",
   "metadata": {
    "collapsed": true
   },
   "source": [
    "#### Load data"
   ]
  },
  {
   "cell_type": "code",
   "execution_count": 4,
   "metadata": {
    "collapsed": true
   },
   "outputs": [],
   "source": [
    "d = feather.read_dataframe(os.path.join(DATA, 'processed', 'train_processed.feather'))"
   ]
  },
  {
   "cell_type": "code",
   "execution_count": 7,
   "metadata": {
    "collapsed": true
   },
   "outputs": [],
   "source": [
    "y = d['is_attributed']\n",
    "# d.drop(['is_attributed', 'attributed_time'], axis=1, inplace=True)\n",
    "d.drop(['is_attributed'], axis=1, inplace=True)"
   ]
  },
  {
   "cell_type": "code",
   "execution_count": null,
   "metadata": {
    "collapsed": true
   },
   "outputs": [],
   "source": [
    "test = feather.read_dataframe(os.path.join(DATA, 'processed', 'test_processed.feather'))"
   ]
  },
  {
   "cell_type": "code",
   "execution_count": null,
   "metadata": {
    "collapsed": true
   },
   "outputs": [],
   "source": []
  },
  {
   "cell_type": "markdown",
   "metadata": {},
   "source": [
    "#### Feature eng"
   ]
  },
  {
   "cell_type": "code",
   "execution_count": null,
   "metadata": {
    "collapsed": true
   },
   "outputs": [],
   "source": []
  },
  {
   "cell_type": "code",
   "execution_count": null,
   "metadata": {
    "collapsed": true
   },
   "outputs": [],
   "source": []
  },
  {
   "cell_type": "code",
   "execution_count": null,
   "metadata": {
    "collapsed": true
   },
   "outputs": [],
   "source": []
  },
  {
   "cell_type": "code",
   "execution_count": null,
   "metadata": {
    "collapsed": true
   },
   "outputs": [],
   "source": []
  },
  {
   "cell_type": "code",
   "execution_count": null,
   "metadata": {
    "collapsed": true
   },
   "outputs": [],
   "source": []
  },
  {
   "cell_type": "code",
   "execution_count": null,
   "metadata": {
    "collapsed": true
   },
   "outputs": [],
   "source": []
  },
  {
   "cell_type": "code",
   "execution_count": null,
   "metadata": {
    "collapsed": true
   },
   "outputs": [],
   "source": []
  },
  {
   "cell_type": "markdown",
   "metadata": {
    "collapsed": true
   },
   "source": [
    "#### Training"
   ]
  },
  {
   "cell_type": "code",
   "execution_count": 9,
   "metadata": {},
   "outputs": [
    {
     "data": {
      "text/html": [
       "<div>\n",
       "<table border=\"1\" class=\"dataframe\">\n",
       "  <thead>\n",
       "    <tr style=\"text-align: right;\">\n",
       "      <th></th>\n",
       "      <th>ip</th>\n",
       "      <th>app</th>\n",
       "      <th>device</th>\n",
       "      <th>os</th>\n",
       "      <th>channel</th>\n",
       "      <th>quarter</th>\n",
       "      <th>time</th>\n",
       "      <th>date</th>\n",
       "      <th>day_of_week</th>\n",
       "      <th>week</th>\n",
       "      <th>n_ip_day_of_week_quarter_channel</th>\n",
       "      <th>n_ip_quarter_app_app</th>\n",
       "      <th>n_ip_quarter_device_device</th>\n",
       "      <th>n_ip_quarter_os_os</th>\n",
       "      <th>n_ip_quarter_channel_channel</th>\n",
       "    </tr>\n",
       "  </thead>\n",
       "  <tbody>\n",
       "    <tr>\n",
       "      <th>0</th>\n",
       "      <td>83230</td>\n",
       "      <td>3</td>\n",
       "      <td>1</td>\n",
       "      <td>13</td>\n",
       "      <td>379</td>\n",
       "      <td>57</td>\n",
       "      <td>52341</td>\n",
       "      <td>20171106</td>\n",
       "      <td>0</td>\n",
       "      <td>45</td>\n",
       "      <td>1</td>\n",
       "      <td>47</td>\n",
       "      <td>255</td>\n",
       "      <td>43</td>\n",
       "      <td>4</td>\n",
       "    </tr>\n",
       "    <tr>\n",
       "      <th>1</th>\n",
       "      <td>17357</td>\n",
       "      <td>3</td>\n",
       "      <td>1</td>\n",
       "      <td>19</td>\n",
       "      <td>379</td>\n",
       "      <td>58</td>\n",
       "      <td>52414</td>\n",
       "      <td>20171106</td>\n",
       "      <td>0</td>\n",
       "      <td>45</td>\n",
       "      <td>1</td>\n",
       "      <td>40</td>\n",
       "      <td>205</td>\n",
       "      <td>44</td>\n",
       "      <td>6</td>\n",
       "    </tr>\n",
       "    <tr>\n",
       "      <th>2</th>\n",
       "      <td>35810</td>\n",
       "      <td>3</td>\n",
       "      <td>1</td>\n",
       "      <td>13</td>\n",
       "      <td>379</td>\n",
       "      <td>59</td>\n",
       "      <td>52452</td>\n",
       "      <td>20171106</td>\n",
       "      <td>0</td>\n",
       "      <td>45</td>\n",
       "      <td>1</td>\n",
       "      <td>43</td>\n",
       "      <td>147</td>\n",
       "      <td>42</td>\n",
       "      <td>2</td>\n",
       "    </tr>\n",
       "    <tr>\n",
       "      <th>3</th>\n",
       "      <td>45745</td>\n",
       "      <td>14</td>\n",
       "      <td>1</td>\n",
       "      <td>13</td>\n",
       "      <td>478</td>\n",
       "      <td>59</td>\n",
       "      <td>52492</td>\n",
       "      <td>20171106</td>\n",
       "      <td>0</td>\n",
       "      <td>45</td>\n",
       "      <td>1</td>\n",
       "      <td>278</td>\n",
       "      <td>3739</td>\n",
       "      <td>943</td>\n",
       "      <td>22</td>\n",
       "    </tr>\n",
       "    <tr>\n",
       "      <th>4</th>\n",
       "      <td>161007</td>\n",
       "      <td>3</td>\n",
       "      <td>1</td>\n",
       "      <td>13</td>\n",
       "      <td>379</td>\n",
       "      <td>60</td>\n",
       "      <td>52508</td>\n",
       "      <td>20171106</td>\n",
       "      <td>0</td>\n",
       "      <td>45</td>\n",
       "      <td>1</td>\n",
       "      <td>4</td>\n",
       "      <td>19</td>\n",
       "      <td>6</td>\n",
       "      <td>1</td>\n",
       "    </tr>\n",
       "  </tbody>\n",
       "</table>\n",
       "</div>"
      ],
      "text/plain": [
       "       ip  app  device  os  channel  quarter   time      date  day_of_week  \\\n",
       "0   83230    3       1  13      379       57  52341  20171106            0   \n",
       "1   17357    3       1  19      379       58  52414  20171106            0   \n",
       "2   35810    3       1  13      379       59  52452  20171106            0   \n",
       "3   45745   14       1  13      478       59  52492  20171106            0   \n",
       "4  161007    3       1  13      379       60  52508  20171106            0   \n",
       "\n",
       "   week  n_ip_day_of_week_quarter_channel  n_ip_quarter_app_app  \\\n",
       "0    45                                 1                    47   \n",
       "1    45                                 1                    40   \n",
       "2    45                                 1                    43   \n",
       "3    45                                 1                   278   \n",
       "4    45                                 1                     4   \n",
       "\n",
       "   n_ip_quarter_device_device  n_ip_quarter_os_os  \\\n",
       "0                         255                  43   \n",
       "1                         205                  44   \n",
       "2                         147                  42   \n",
       "3                        3739                 943   \n",
       "4                          19                   6   \n",
       "\n",
       "   n_ip_quarter_channel_channel  \n",
       "0                             4  \n",
       "1                             6  \n",
       "2                             2  \n",
       "3                            22  \n",
       "4                             1  "
      ]
     },
     "execution_count": 9,
     "metadata": {},
     "output_type": "execute_result"
    }
   ],
   "source": [
    "d.head()"
   ]
  },
  {
   "cell_type": "code",
   "execution_count": 24,
   "metadata": {
    "collapsed": true
   },
   "outputs": [],
   "source": [
    "import time\n",
    "import gc\n",
    "# from sklearn.cross_validation import train_test_split\n",
    "import lightgbm as lgb"
   ]
  },
  {
   "cell_type": "code",
   "execution_count": 15,
   "metadata": {
    "collapsed": true
   },
   "outputs": [],
   "source": [
    "categoricals = ['app', 'device', 'os', 'channel']"
   ]
  },
  {
   "cell_type": "code",
   "execution_count": 11,
   "metadata": {
    "collapsed": true
   },
   "outputs": [],
   "source": [
    "vars_name = ['app', 'device', 'os', 'channel', 'quarter', 'time', 'date',\n",
    "       'day_of_week', 'week', 'n_ip_day_of_week_quarter_channel',\n",
    "       'n_ip_quarter_app_app', 'n_ip_quarter_device_device',\n",
    "       'n_ip_quarter_os_os', 'n_ip_quarter_channel_channel']"
   ]
  },
  {
   "cell_type": "code",
   "execution_count": 12,
   "metadata": {
    "collapsed": true
   },
   "outputs": [],
   "source": [
    "vars = np.where(d.columns.isin(vars_name))[0]"
   ]
  },
  {
   "cell_type": "code",
   "execution_count": 11,
   "metadata": {
    "collapsed": true
   },
   "outputs": [],
   "source": [
    "# vars = np.where(d.columns.isin(['app', 'device', 'os', 'channel', 'time', 'date', 'day_of_week', 'week']))[0]"
   ]
  },
  {
   "cell_type": "code",
   "execution_count": 12,
   "metadata": {
    "collapsed": true
   },
   "outputs": [],
   "source": [
    "# start_time = time.time()\n",
    "\n",
    "# print('[{}] Starting LGBM Training'.format(time.time() - start_time))\n",
    "\n",
    "# params = {\n",
    "#     'num_leaves': 31,\n",
    "#     'objective': 'binary',\n",
    "#     'min_data_in_leaf': 200,\n",
    "#     'learning_rate': 0.1,\n",
    "#     'feature_fraction': 0.8,\n",
    "#     'bagging_fraction': 0.85,\n",
    "#     'bagging_freq': 3,\n",
    "#     'metric': 'auc',\n",
    "#     'num_threads': 4,\n",
    "#     'scale_pos_weight':400\n",
    "# }\n",
    "\n",
    "# MAX_ROUNDS = 650\n",
    "\n",
    "# N = 100000\n",
    "\n",
    "# x1, x2, y1, y2 = train_test_split(d.iloc[:N, vars], y[:N], test_size=0.1, random_state=47840934)\n",
    "\n",
    "# # del train, y\n",
    "# gc.collect()\n",
    "\n",
    "# dtrain = lgb.Dataset(x1, label=y1)\n",
    "# dval = lgb.Dataset(x2, label=y2, reference=dtrain)\n",
    "\n",
    "# del x1, x2, y1, y2\n",
    "# gc.collect()\n",
    "\n",
    "# model = lgb.train(params, dtrain, num_boost_round=MAX_ROUNDS, \n",
    "#                   categorical_feature=categoricals,\n",
    "#                   valid_sets=[dtrain, dval], \n",
    "#                   early_stopping_rounds=50, \n",
    "#                   verbose_eval=10)\n",
    "\n",
    "\n",
    "# del dtrain, dval\n",
    "# gc.collect()\n",
    "\n",
    "# print('[{}] Finished LGBM Training'.format(time.time() - start_time))"
   ]
  },
  {
   "cell_type": "markdown",
   "metadata": {},
   "source": [
    "#### Optimise params here"
   ]
  },
  {
   "cell_type": "code",
   "execution_count": 18,
   "metadata": {
    "collapsed": true
   },
   "outputs": [],
   "source": [
    "from sklearn.model_selection import KFold\n",
    "\n",
    "class Oversample(object):\n",
    "    def __init__(self, X, y, n_splits=5, seed=None):\n",
    "        \n",
    "        self.ind0 = X.index[y==0]\n",
    "        self.ind1 = X.index[y==1]\n",
    "        \n",
    "#         self.n_splits = n_splits\n",
    "#         self.N_0 = 9 * len(ind1)\n",
    "        \n",
    "        self.kf_0 = KFold(n_splits=n_splits, shuffle=True, random_state=seed)\n",
    "        self.kf_1 = KFold(n_splits=n_splits, shuffle=True, random_state=seed)\n",
    "        \n",
    "        self.non_event = self.kf_0.split(self.ind0)\n",
    "        self.event = self.kf_1.split(self.ind1)\n",
    "        \n",
    "\n",
    "    def __next__(self):\n",
    "        return self.generate()\n",
    "    \n",
    "    def generate(self):\n",
    "        ind0_0, ind0_1 = next(self.non_event)\n",
    "        ind1_0, ind1_1 = next(self.event)\n",
    "        \n",
    "        ind0_train = self.ind0[ind0_0]\n",
    "        ind0_valid = self.ind0[ind0_1]\n",
    "        \n",
    "        ind1_train = self.ind1[ind1_0]\n",
    "        ind1_valid = self.ind1[ind1_1]\n",
    "        \n",
    "        train = np.concatenate([np.random.choice(ind0_train, len(ind1_train) * 1), ind1_train])\n",
    "        valid = np.concatenate([np.array(ind0_valid), np.array(ind1_valid)])\n",
    "#         valid = np.concatenate([np.random.choice(ind0_valid, len(ind0_valid) * 9), ind1_valid])\n",
    "        \n",
    "        yield np.random.permutation(train), np.random.permutation(valid)"
   ]
  },
  {
   "cell_type": "code",
   "execution_count": 19,
   "metadata": {
    "collapsed": true
   },
   "outputs": [],
   "source": [
    "# y_0_index = d.index[y==0]\n",
    "# y_1_index = d.index[y==1]\n",
    "# ov = Oversample(y_0_index, y_1_index)"
   ]
  },
  {
   "cell_type": "code",
   "execution_count": 20,
   "metadata": {
    "collapsed": true
   },
   "outputs": [],
   "source": [
    "# ov = Oversample(y, seed=SEED)"
   ]
  },
  {
   "cell_type": "code",
   "execution_count": null,
   "metadata": {
    "collapsed": true
   },
   "outputs": [],
   "source": []
  },
  {
   "cell_type": "code",
   "execution_count": null,
   "metadata": {
    "collapsed": true
   },
   "outputs": [],
   "source": []
  },
  {
   "cell_type": "code",
   "execution_count": 21,
   "metadata": {
    "collapsed": true
   },
   "outputs": [],
   "source": [
    "# permutation = np.random.choice(d.index[y==0], size=y.sum()*9, replace=False)\n",
    "\n",
    "# dtrain = lgb.Dataset(d.iloc[sample, vars], label=y.iloc[sample], categorical_feature=categoricals)\n",
    "\n",
    "\n",
    "# x1, x2, y1, y2 = train_test_split(d.iloc[:N, vars], y[:N], test_size=0.1, random_state=47840934)\n",
    "# dtrain = lgb.Dataset(x1, label=y1)\n",
    "# dval = lgb.Dataset(x2, label=y2, reference=dtrain)\n",
    "\n",
    "\n",
    "# dtrain = lgb.Dataset(d.iloc[:N, vars], label=y.iloc[:N], categorical_feature=categoricals)\n",
    "# \n",
    "# gc.collect();\n",
    "\n",
    "# del x1, x2, y1, y2\n",
    "# gc.collect()"
   ]
  },
  {
   "cell_type": "code",
   "execution_count": null,
   "metadata": {
    "collapsed": true
   },
   "outputs": [],
   "source": []
  },
  {
   "cell_type": "code",
   "execution_count": 25,
   "metadata": {
    "collapsed": true
   },
   "outputs": [],
   "source": [
    "# permutation = np.random.choice(d.index[y==0], size=y.sum()*9, replace=False)\n",
    "\n",
    "# N = 50000\n",
    "N = d.shape[0]\n",
    "\n",
    "# ov = Oversample(d.iloc[:N, vars], y[:N], seed=SEED)\n",
    "\n",
    "dtrain = lgb.Dataset(d.iloc[:N, vars], label=y.iloc[:N], categorical_feature=categoricals)\n",
    "\n",
    "\n",
    "# x1, x2, y1, y2 = train_test_split(d.iloc[:N, vars], y[:N], test_size=0.1, random_state=47840934)\n",
    "# dtrain = lgb.Dataset(x1, label=y1)\n",
    "# dval = lgb.Dataset(x2, label=y2, reference=dtrain)\n",
    "\n",
    "\n",
    "# dtrain = lgb.Dataset(d.iloc[:N, vars], label=y.iloc[:N], categorical_feature=categoricals)\n",
    "\n",
    "gc.collect();\n",
    "\n",
    "# del x1, x2, y1, y2\n",
    "# gc.collect()"
   ]
  },
  {
   "cell_type": "code",
   "execution_count": 26,
   "metadata": {},
   "outputs": [
    {
     "name": "stdout",
     "output_type": "stream",
     "text": [
      "[4.887580871582031e-05] Starting LGBM Training\n"
     ]
    },
    {
     "name": "stderr",
     "output_type": "stream",
     "text": [
      "/Users/toniblaslov/anaconda/lib/python3.6/site-packages/lightgbm/basic.py:1036: UserWarning: Using categorical_feature in Dataset.\n",
      "  warnings.warn('Using categorical_feature in Dataset.')\n"
     ]
    },
    {
     "name": "stdout",
     "output_type": "stream",
     "text": [
      "[10]\tcv_agg's auc: 0.96655 + 0\n",
      "[20]\tcv_agg's auc: 0.967138 + 0\n",
      "[30]\tcv_agg's auc: 0.967526 + 0\n",
      "[40]\tcv_agg's auc: 0.968456 + 0\n",
      "[50]\tcv_agg's auc: 0.96892 + 0\n",
      "[60]\tcv_agg's auc: 0.9694 + 0\n",
      "[70]\tcv_agg's auc: 0.969779 + 0\n",
      "[80]\tcv_agg's auc: 0.970278 + 0\n",
      "[90]\tcv_agg's auc: 0.970816 + 0\n",
      "[100]\tcv_agg's auc: 0.971279 + 0\n",
      "[110]\tcv_agg's auc: 0.971523 + 0\n",
      "[120]\tcv_agg's auc: 0.971771 + 0\n",
      "[130]\tcv_agg's auc: 0.972269 + 0\n",
      "[140]\tcv_agg's auc: 0.972602 + 0\n",
      "[150]\tcv_agg's auc: 0.973105 + 0\n",
      "[160]\tcv_agg's auc: 0.973456 + 0\n",
      "[170]\tcv_agg's auc: 0.973747 + 0\n",
      "[180]\tcv_agg's auc: 0.973949 + 0\n",
      "[190]\tcv_agg's auc: 0.974085 + 0\n",
      "[200]\tcv_agg's auc: 0.974223 + 0\n",
      "[210]\tcv_agg's auc: 0.974297 + 0\n",
      "[220]\tcv_agg's auc: 0.974352 + 0\n",
      "[230]\tcv_agg's auc: 0.974411 + 0\n",
      "[240]\tcv_agg's auc: 0.974408 + 0\n",
      "[250]\tcv_agg's auc: 0.974438 + 0\n",
      "[260]\tcv_agg's auc: 0.974492 + 0\n",
      "[270]\tcv_agg's auc: 0.974525 + 0\n",
      "[280]\tcv_agg's auc: 0.974525 + 0\n",
      "[290]\tcv_agg's auc: 0.974535 + 0\n",
      "[300]\tcv_agg's auc: 0.974529 + 0\n",
      "[310]\tcv_agg's auc: 0.974549 + 0\n",
      "[320]\tcv_agg's auc: 0.974551 + 0\n",
      "[330]\tcv_agg's auc: 0.974552 + 0\n",
      "[340]\tcv_agg's auc: 0.974563 + 0\n",
      "[350]\tcv_agg's auc: 0.97457 + 0\n",
      "[360]\tcv_agg's auc: 0.974562 + 0\n",
      "[370]\tcv_agg's auc: 0.974557 + 0\n",
      "[380]\tcv_agg's auc: 0.974564 + 0\n",
      "[390]\tcv_agg's auc: 0.97457 + 0\n",
      "[4708.0697638988495] Finished LGBM Training\n"
     ]
    }
   ],
   "source": [
    "ov = Oversample(d.iloc[:N, vars], y[:N], n_splits=5, seed=SEED)\n",
    "gc.collect();\n",
    "\n",
    "start_time = time.time()\n",
    "\n",
    "print('[{}] Starting LGBM Training'.format(time.time() - start_time))\n",
    "\n",
    "params = {\n",
    "    'num_leaves': 131,\n",
    "    'objective': 'binary',\n",
    "    'min_data_in_leaf': 100,\n",
    "    'learning_rate': 0.05,\n",
    "    'feature_fraction': 0.8,\n",
    "    'bagging_fraction': 0.63,\n",
    "    'bagging_freq': 3,\n",
    "    'metric': 'auc',\n",
    "    'num_threads': 4,\n",
    "    'scale_pos_weight':400\n",
    "}\n",
    "\n",
    "MAX_ROUNDS = 250\n",
    "\n",
    "# N = d.shape[0]\n",
    "\n",
    "# N = 10000\n",
    "\n",
    "\n",
    "# model = lgb.train(params, dtrain, num_boost_round=MAX_ROUNDS, \n",
    "#                   valid_sets=[dtrain, dval], \n",
    "#                   early_stopping_rounds=50, \n",
    "#                   verbose_eval=10)\n",
    "\n",
    "cv_auc = lgb.cv(params, dtrain, num_boost_round=MAX_ROUNDS, \n",
    "                folds = ov.generate(),\n",
    "#                 nfold=5, \n",
    "                early_stopping_rounds=50, \n",
    "                verbose_eval=10, \n",
    "                seed=SEED)\n",
    "\n",
    "cv_auc_mean = pd.DataFrame(cv_auc)['auc-mean'].mean()\n",
    "\n",
    "# del dtrain#, dval\n",
    "gc.collect()\n",
    "\n",
    "print('[{}] Finished LGBM Training'.format(time.time() - start_time))"
   ]
  },
  {
   "cell_type": "code",
   "execution_count": 27,
   "metadata": {},
   "outputs": [
    {
     "data": {
      "image/png": "[encoded data removed]",
      "text/plain": [
       "<Figure size 432x288 with 1 Axes>"
      ]
     },
     "metadata": {},
     "output_type": "display_data"
    }
   ],
   "source": [
    "pd.DataFrame(cv_auc)['auc-mean'].plot();"
   ]
  },
  {
   "cell_type": "markdown",
   "metadata": {},
   "source": [
    "#### Fit final model here"
   ]
  },
  {
   "cell_type": "code",
   "execution_count": null,
   "metadata": {
    "collapsed": true
   },
   "outputs": [],
   "source": [
    "start_time = time.time()\n",
    "\n",
    "print('[{}] Starting LGBM Training'.format(time.time() - start_time))\n",
    "\n",
    "# params = {\n",
    "#     'num_leaves': 31,\n",
    "#     'objective': 'binary',\n",
    "#     'min_data_in_leaf': 200,\n",
    "#     'learning_rate': 0.1,\n",
    "#     'feature_fraction': 0.8,\n",
    "#     'bagging_fraction': 0.85,\n",
    "#     'bagging_freq': 3,\n",
    "#     'metric': 'auc',\n",
    "#     'num_threads': 4,\n",
    "#     'scale_pos_weight':400\n",
    "# }\n",
    "\n",
    "# MAX_ROUNDS = 650\n",
    "\n",
    "model = lgb.train(params, dtrain, num_boost_round=MAX_ROUNDS, \n",
    "                  categorical_feature=categoricals,\n",
    "                  valid_sets=[dtrain], \n",
    "                  early_stopping_rounds=50, \n",
    "                  verbose_eval=10)\n",
    "\n",
    "\n",
    "# del dtrain#, dval\n",
    "gc.collect()\n",
    "\n",
    "print('[{}] Finished LGBM Training'.format(time.time() - start_time))"
   ]
  },
  {
   "cell_type": "markdown",
   "metadata": {},
   "source": [
    "#### Score and save to outputs"
   ]
  },
  {
   "cell_type": "code",
   "execution_count": null,
   "metadata": {
    "collapsed": true
   },
   "outputs": [],
   "source": [
    "y_test = model.predict(test.loc[:,vars_name])"
   ]
  },
  {
   "cell_type": "code",
   "execution_count": null,
   "metadata": {
    "collapsed": true
   },
   "outputs": [],
   "source": [
    "d_sub = pd.DataFrame({'click_id': range(len(y_test)), 'is_attributed': y_test})"
   ]
  },
  {
   "cell_type": "code",
   "execution_count": null,
   "metadata": {
    "collapsed": true
   },
   "outputs": [],
   "source": [
    "# y_test = model.predict(test.loc[:,vars])"
   ]
  },
  {
   "cell_type": "code",
   "execution_count": null,
   "metadata": {
    "collapsed": true
   },
   "outputs": [],
   "source": [
    "# d_sub.to_csv(os.path.join(OUTPUT, NAME + '-' + str(cv_auc_mean) + '.csv'), index=False)\n",
    "feather.write_dataframe(d_sub, os.path.join(OUTPUT, NAME + '-' + str(cv_auc_mean) + '.feather'))"
   ]
  },
  {
   "cell_type": "markdown",
   "metadata": {},
   "source": [
    "#### Save the model to disk"
   ]
  },
  {
   "cell_type": "code",
   "execution_count": null,
   "metadata": {
    "collapsed": true
   },
   "outputs": [],
   "source": [
    "import pickle\n",
    "with open(os.path.join(ROOT, 'models', NAME + '.pickle'), 'wb') as file:\n",
    "    pickle.dump(model, file)"
   ]
  },
  {
   "cell_type": "code",
   "execution_count": null,
   "metadata": {
    "collapsed": true
   },
   "outputs": [],
   "source": []
  }
 ],
 "metadata": {
  "kernelspec": {
   "display_name": "Python 3",
   "language": "python",
   "name": "python3"
  },
  "language_info": {
   "codemirror_mode": {
    "name": "ipython",
    "version": 3
   },
   "file_extension": ".py",
   "mimetype": "text/x-python",
   "name": "python",
   "nbconvert_exporter": "python",
   "pygments_lexer": "ipython3",
   "version": "3.6.4"
  }
 },
 "nbformat": 4,
 "nbformat_minor": 2
}
